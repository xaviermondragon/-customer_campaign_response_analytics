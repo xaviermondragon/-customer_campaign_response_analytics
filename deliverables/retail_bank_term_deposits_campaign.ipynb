{
  "nbformat": 4,
  "nbformat_minor": 0,
  "metadata": {
    "colab": {
      "provenance": []
    },
    "kernelspec": {
      "name": "python3",
      "display_name": "Python 3"
    },
    "language_info": {
      "name": "python"
    }
  },
  "cells": [
    {
      "cell_type": "markdown",
      "source": [
        "# Customer Campaign Response Analytics Using PySpark"
      ],
      "metadata": {
        "id": "awvOG90HwPTU"
      }
    },
    {
      "cell_type": "markdown",
      "source": [
        "The dataset can be found at [kaggle](https://www.kaggle.com/datasets/nimishsawant/bankfull). The data is related with direct marketing campaigns (phone calls) of a Portuguese banking institution. The classification goal is to predict if the client will subscribe a term deposit (variable y)."
      ],
      "metadata": {
        "id": "yBbGY-fEHdnL"
      }
    },
    {
      "cell_type": "markdown",
      "source": [
        "## Data Ingestion from CSV to Spark DataFrame"
      ],
      "metadata": {
        "id": "xX44GDERxFpi"
      }
    },
    {
      "cell_type": "code",
      "execution_count": 1,
      "metadata": {
        "colab": {
          "base_uri": "https://localhost:8080/"
        },
        "id": "8-9gUBf4wHxH",
        "outputId": "7afcea15-1dd0-4a50-f0c2-bf3a22d5d6af"
      },
      "outputs": [
        {
          "output_type": "stream",
          "name": "stdout",
          "text": [
            "Requirement already satisfied: pyspark in /usr/local/lib/python3.11/dist-packages (3.5.1)\n",
            "Requirement already satisfied: py4j==0.10.9.7 in /usr/local/lib/python3.11/dist-packages (from pyspark) (0.10.9.7)\n"
          ]
        }
      ],
      "source": [
        "pip install pyspark"
      ]
    },
    {
      "cell_type": "code",
      "source": [
        "pip install -q findspark # -q, --quiet Give less output"
      ],
      "metadata": {
        "id": "BSKmSK7UxMoS"
      },
      "execution_count": 2,
      "outputs": []
    },
    {
      "cell_type": "code",
      "source": [
        "import findspark\n",
        "findspark.init()"
      ],
      "metadata": {
        "id": "JuT3jqmYxhik"
      },
      "execution_count": 3,
      "outputs": []
    },
    {
      "cell_type": "code",
      "source": [
        "# Create a Spark Session\n",
        "import pyspark\n",
        "from pyspark.sql import SparkSession\n",
        "\n",
        "spark = SparkSession.builder.appName('Customer Campaign Response Analytics').getOrCreate()"
      ],
      "metadata": {
        "id": "kK7lWFg3xtRd"
      },
      "execution_count": 4,
      "outputs": []
    },
    {
      "cell_type": "code",
      "source": [
        "# Load the dataset\n",
        "file_path = '/content/bank-full.csv'\n",
        "\n",
        "df = spark.read.csv(file_path, header=True, inferSchema=True)\n",
        "# Which variables do we have?\n",
        "df.printSchema()"
      ],
      "metadata": {
        "colab": {
          "base_uri": "https://localhost:8080/"
        },
        "id": "HGzUR3YDyX3i",
        "outputId": "cd5a1a48-da13-4465-b477-cba493786983"
      },
      "execution_count": 5,
      "outputs": [
        {
          "output_type": "stream",
          "name": "stdout",
          "text": [
            "root\n",
            " |-- age: integer (nullable = true)\n",
            " |-- job: string (nullable = true)\n",
            " |-- marital: string (nullable = true)\n",
            " |-- education: string (nullable = true)\n",
            " |-- default: string (nullable = true)\n",
            " |-- balance: integer (nullable = true)\n",
            " |-- housing: string (nullable = true)\n",
            " |-- loan: string (nullable = true)\n",
            " |-- contact: string (nullable = true)\n",
            " |-- day: integer (nullable = true)\n",
            " |-- month: string (nullable = true)\n",
            " |-- duration: integer (nullable = true)\n",
            " |-- campaign: integer (nullable = true)\n",
            " |-- pdays: integer (nullable = true)\n",
            " |-- previous: integer (nullable = true)\n",
            " |-- poutcome: string (nullable = true)\n",
            " |-- Target: string (nullable = true)\n",
            "\n"
          ]
        }
      ]
    },
    {
      "cell_type": "code",
      "source": [
        "# How does the data look like?\n",
        "df.show(5)"
      ],
      "metadata": {
        "colab": {
          "base_uri": "https://localhost:8080/"
        },
        "id": "X2Y0rDsnzNNP",
        "outputId": "4affed63-8318-4618-f4ec-48670989a8a4"
      },
      "execution_count": 6,
      "outputs": [
        {
          "output_type": "stream",
          "name": "stdout",
          "text": [
            "+---+------------+-------+---------+-------+-------+-------+----+-------+---+-----+--------+--------+-----+--------+--------+------+\n",
            "|age|         job|marital|education|default|balance|housing|loan|contact|day|month|duration|campaign|pdays|previous|poutcome|Target|\n",
            "+---+------------+-------+---------+-------+-------+-------+----+-------+---+-----+--------+--------+-----+--------+--------+------+\n",
            "| 58|  management|married| tertiary|     no|   2143|    yes|  no|unknown|  5|  may|     261|       1|   -1|       0| unknown|    no|\n",
            "| 44|  technician| single|secondary|     no|     29|    yes|  no|unknown|  5|  may|     151|       1|   -1|       0| unknown|    no|\n",
            "| 33|entrepreneur|married|secondary|     no|      2|    yes| yes|unknown|  5|  may|      76|       1|   -1|       0| unknown|    no|\n",
            "| 47| blue-collar|married|  unknown|     no|   1506|    yes|  no|unknown|  5|  may|      92|       1|   -1|       0| unknown|    no|\n",
            "| 33|     unknown| single|  unknown|     no|      1|     no|  no|unknown|  5|  may|     198|       1|   -1|       0| unknown|    no|\n",
            "+---+------------+-------+---------+-------+-------+-------+----+-------+---+-----+--------+--------+-----+--------+--------+------+\n",
            "only showing top 5 rows\n",
            "\n"
          ]
        }
      ]
    },
    {
      "cell_type": "code",
      "source": [
        "# number of rows\n",
        "df.count()"
      ],
      "metadata": {
        "colab": {
          "base_uri": "https://localhost:8080/"
        },
        "id": "tRcGSHXOe4iF",
        "outputId": "75bfd8be-a4cb-4e77-acc1-a8552917b8de"
      },
      "execution_count": 7,
      "outputs": [
        {
          "output_type": "execute_result",
          "data": {
            "text/plain": [
              "45211"
            ]
          },
          "metadata": {},
          "execution_count": 7
        }
      ]
    },
    {
      "cell_type": "markdown",
      "source": [
        "Each datapoint contains information about a particular client, which was contacted during the marketing campaign mentioned at the beginning of this notebook. Most of the columns are self-explanatory, nevertheless, there are some for which an extra explanation is useful. For the sake of completeness, we include the description of each column:\n",
        "\n",
        "- **age**: Age\n",
        "- **job**: Occupation\n",
        "- **marital**: Marital Status\n",
        "- **education**: Education Level\n",
        "- **default**: Has credit in default?\n",
        "- **balance**: Average yearly balance\n",
        "- **housing**: Average has housing loan?\n",
        "- **loan**: Has personal loan?\n",
        "- **contact**: Contact communication type\n",
        "- **day**: Last contact day of the month (In the data description it says day of the week, but wee will see below that's not the case)\n",
        "- **month**: Last contact month of year\n",
        "- **duration**: Last contact duration, in seconds\n",
        "- **campaign**: Number of contacts performed during this campaign and for this client\n",
        "- **pdays**: Number of days that passed by after the client was last contacted from a previous campaign\n",
        "- **previous**: Number of contacts performed before this campaign and for this client\n",
        "- **poutcome**: Outcome of the previous marketing campaign\n",
        "- **Target**: Has the client subscribed a term deposit?\n",
        "\n",
        "As its name suggests, **Target** is the target variable, which we would like to predict."
      ],
      "metadata": {
        "id": "zqOAWR1rG0TA"
      }
    },
    {
      "cell_type": "markdown",
      "source": [
        "# Data Cleaning and Preprocessing"
      ],
      "metadata": {
        "id": "-cgb_wiJEd8Y"
      }
    },
    {
      "cell_type": "markdown",
      "source": [
        "### Column renaming"
      ],
      "metadata": {
        "id": "ehOSCelSNwPM"
      }
    },
    {
      "cell_type": "code",
      "source": [
        "# Do all the cleaning in a copy of the original dataframe\n",
        "df_clean = df.withColumnRenamed('Target', 'y')"
      ],
      "metadata": {
        "id": "P7Ds0DXvN1bN"
      },
      "execution_count": 8,
      "outputs": []
    },
    {
      "cell_type": "markdown",
      "source": [
        "### Missing Values:"
      ],
      "metadata": {
        "id": "iDE3q0c6FbrH"
      }
    },
    {
      "cell_type": "code",
      "source": [
        "from pyspark.sql.functions import isnull, col, sum\n",
        "\n",
        "null_summary = df_clean.select(\n",
        "    [sum(col(c).isNull().cast('int')).alias(c) for c in df_clean.columns]\n",
        ")\n",
        "\n",
        "null_summary.show()"
      ],
      "metadata": {
        "colab": {
          "base_uri": "https://localhost:8080/"
        },
        "id": "W1tsn9STEiz4",
        "outputId": "11821549-1398-4737-dcd8-b232162a823d"
      },
      "execution_count": 9,
      "outputs": [
        {
          "output_type": "stream",
          "name": "stdout",
          "text": [
            "+---+---+-------+---------+-------+-------+-------+----+-------+---+-----+--------+--------+-----+--------+--------+---+\n",
            "|age|job|marital|education|default|balance|housing|loan|contact|day|month|duration|campaign|pdays|previous|poutcome|  y|\n",
            "+---+---+-------+---------+-------+-------+-------+----+-------+---+-----+--------+--------+-----+--------+--------+---+\n",
            "|  0|  0|      0|        0|      0|      0|      0|   0|      0|  0|    0|       0|       0|    0|       0|       0|  0|\n",
            "+---+---+-------+---------+-------+-------+-------+----+-------+---+-----+--------+--------+-----+--------+--------+---+\n",
            "\n"
          ]
        }
      ]
    },
    {
      "cell_type": "markdown",
      "source": [
        "### Time Variables"
      ],
      "metadata": {
        "id": "ymWE_YJmP6FI"
      }
    },
    {
      "cell_type": "code",
      "source": [
        "df_clean.select('month').distinct().show()"
      ],
      "metadata": {
        "colab": {
          "base_uri": "https://localhost:8080/"
        },
        "id": "r5I0pPq7P_I5",
        "outputId": "d1e6d332-b486-40ea-a9c3-cd299d53f1c4"
      },
      "execution_count": 10,
      "outputs": [
        {
          "output_type": "stream",
          "name": "stdout",
          "text": [
            "+-----+\n",
            "|month|\n",
            "+-----+\n",
            "|  jun|\n",
            "|  aug|\n",
            "|  may|\n",
            "|  feb|\n",
            "|  sep|\n",
            "|  mar|\n",
            "|  oct|\n",
            "|  jul|\n",
            "|  nov|\n",
            "|  apr|\n",
            "|  dec|\n",
            "|  jan|\n",
            "+-----+\n",
            "\n"
          ]
        }
      ]
    },
    {
      "cell_type": "markdown",
      "source": [
        "All 12 months of the year are present. There is no 'year' column in the dataset and I also don't find any reference of the year(s) where the marketing campaign took place. We could assume that the campaign was run on a single year, but we can't be really sure. As we culd be dealing with more than one year, it is safer to perform cyclic encoding for month."
      ],
      "metadata": {
        "id": "n9W8XKQwQyow"
      }
    },
    {
      "cell_type": "code",
      "source": [
        "# First convert month to a numerical variable\n",
        "from pyspark.sql.functions import from_unixtime, unix_timestamp\n",
        "\n",
        "df_clean = df_clean.withColumn('month', from_unixtime(unix_timestamp(col('month'), 'MMM'), 'MM'))\n",
        "df_clean = df_clean.withColumn('month', df_clean['month'].cast('int'))\n",
        "df_clean.select('month').distinct().show()"
      ],
      "metadata": {
        "colab": {
          "base_uri": "https://localhost:8080/"
        },
        "id": "R07_rJB54i5c",
        "outputId": "12f0ca13-35b5-45ee-aa22-718a97abf596"
      },
      "execution_count": 11,
      "outputs": [
        {
          "output_type": "stream",
          "name": "stdout",
          "text": [
            "+-----+\n",
            "|month|\n",
            "+-----+\n",
            "|   12|\n",
            "|    1|\n",
            "|    6|\n",
            "|    3|\n",
            "|    5|\n",
            "|    9|\n",
            "|    4|\n",
            "|    8|\n",
            "|    7|\n",
            "|   10|\n",
            "|   11|\n",
            "|    2|\n",
            "+-----+\n",
            "\n"
          ]
        }
      ]
    },
    {
      "cell_type": "code",
      "source": [
        "# Cyclical encoding of month\n",
        "from pyspark.sql.functions import sin, cos\n",
        "from math import pi\n",
        "df_clean = df_clean.withColumn('month_sin', sin(2*pi*(df_clean['month'] - 1)/12))\n",
        "df_clean = df_clean.withColumn('month_cos', sin(2*pi*(df_clean['month'] - 1)/12))"
      ],
      "metadata": {
        "id": "8N88zxqH-hZa"
      },
      "execution_count": 12,
      "outputs": []
    },
    {
      "cell_type": "markdown",
      "source": [
        "Let's now take a look at the **day** column:"
      ],
      "metadata": {
        "id": "hhOb4dt0xrbm"
      }
    },
    {
      "cell_type": "code",
      "source": [
        "df_clean.select('day').distinct().show()"
      ],
      "metadata": {
        "colab": {
          "base_uri": "https://localhost:8080/"
        },
        "id": "df7KD7J0h9zg",
        "outputId": "cf57b9f6-fa9b-4273-9a71-921667df46d3"
      },
      "execution_count": 13,
      "outputs": [
        {
          "output_type": "stream",
          "name": "stdout",
          "text": [
            "+---+\n",
            "|day|\n",
            "+---+\n",
            "| 31|\n",
            "| 28|\n",
            "| 26|\n",
            "| 27|\n",
            "| 12|\n",
            "| 22|\n",
            "|  1|\n",
            "| 13|\n",
            "|  6|\n",
            "| 16|\n",
            "|  3|\n",
            "| 20|\n",
            "|  5|\n",
            "| 19|\n",
            "| 15|\n",
            "|  9|\n",
            "| 17|\n",
            "|  4|\n",
            "|  8|\n",
            "| 23|\n",
            "+---+\n",
            "only showing top 20 rows\n",
            "\n"
          ]
        }
      ]
    },
    {
      "cell_type": "markdown",
      "source": [
        "As mentioned on the introduction, we are dealing with day of the month instead of day of the week. Let's perform cyclical encoding accordingly."
      ],
      "metadata": {
        "id": "kIOpPVrLiw_O"
      }
    },
    {
      "cell_type": "code",
      "source": [
        "from pyspark.sql import functions as F\n",
        "\n",
        "# create an auxiliar column having the number of days in a given month\n",
        "df_clean = df_clean.withColumn(\n",
        "    'month_days',\n",
        "    F.when(F.col('month').isin([1, 3, 5, 7, 8, 10, 12]), 31) #months with 31 days\n",
        "    .when(F.col('month').isin([4, 6, 9, 11]), 30) # months with 30 days\n",
        "    .otherwise(28) # february\n",
        ")"
      ],
      "metadata": {
        "id": "1Z2G-UF1tdED"
      },
      "execution_count": 14,
      "outputs": []
    },
    {
      "cell_type": "code",
      "source": [
        "# Cyclical encoding of day\n",
        "df_clean = df_clean.withColumn('day_sin', sin(2*pi*(df_clean['day'] - 1)/df_clean['month_days']))\n",
        "df_clean = df_clean.withColumn('day_cos', sin(2*pi*(df_clean['day'] - 1)/df_clean['month_days']))\n",
        "# drop auxiliar column\n",
        "df_clean = df_clean.drop('month_days')"
      ],
      "metadata": {
        "id": "ym-A3fF_7jfe"
      },
      "execution_count": 15,
      "outputs": []
    },
    {
      "cell_type": "markdown",
      "source": [
        "### Exploration of categorical columns"
      ],
      "metadata": {
        "id": "z0WbxJWm98de"
      }
    },
    {
      "cell_type": "code",
      "source": [
        "categorical = ['job', 'marital', 'education', 'default', 'housing', 'loan', 'contact', 'poutcome']\n",
        "no_rows = df_clean.count()\n",
        "\n",
        "for col in categorical:\n",
        "  df_clean.groupBy(col).count() \\\n",
        "  .withColumn('percent_of_total', F.round((F.col('count') / no_rows)*100, 1)) \\\n",
        "  .show()"
      ],
      "metadata": {
        "colab": {
          "base_uri": "https://localhost:8080/"
        },
        "id": "bNJhVAmGBMCR",
        "outputId": "595332c0-63d6-4479-f861-ed043b74568f"
      },
      "execution_count": 16,
      "outputs": [
        {
          "output_type": "stream",
          "name": "stdout",
          "text": [
            "+-------------+-----+----------------+\n",
            "|          job|count|percent_of_total|\n",
            "+-------------+-----+----------------+\n",
            "|   management| 9458|            20.9|\n",
            "|      retired| 2264|             5.0|\n",
            "|      unknown|  288|             0.6|\n",
            "|self-employed| 1579|             3.5|\n",
            "|      student|  938|             2.1|\n",
            "|  blue-collar| 9732|            21.5|\n",
            "| entrepreneur| 1487|             3.3|\n",
            "|       admin.| 5171|            11.4|\n",
            "|   technician| 7597|            16.8|\n",
            "|     services| 4154|             9.2|\n",
            "|    housemaid| 1240|             2.7|\n",
            "|   unemployed| 1303|             2.9|\n",
            "+-------------+-----+----------------+\n",
            "\n",
            "+--------+-----+----------------+\n",
            "| marital|count|percent_of_total|\n",
            "+--------+-----+----------------+\n",
            "|divorced| 5207|            11.5|\n",
            "| married|27214|            60.2|\n",
            "|  single|12790|            28.3|\n",
            "+--------+-----+----------------+\n",
            "\n",
            "+---------+-----+----------------+\n",
            "|education|count|percent_of_total|\n",
            "+---------+-----+----------------+\n",
            "|  unknown| 1857|             4.1|\n",
            "| tertiary|13301|            29.4|\n",
            "|secondary|23202|            51.3|\n",
            "|  primary| 6851|            15.2|\n",
            "+---------+-----+----------------+\n",
            "\n",
            "+-------+-----+----------------+\n",
            "|default|count|percent_of_total|\n",
            "+-------+-----+----------------+\n",
            "|     no|44396|            98.2|\n",
            "|    yes|  815|             1.8|\n",
            "+-------+-----+----------------+\n",
            "\n",
            "+-------+-----+----------------+\n",
            "|housing|count|percent_of_total|\n",
            "+-------+-----+----------------+\n",
            "|     no|20081|            44.4|\n",
            "|    yes|25130|            55.6|\n",
            "+-------+-----+----------------+\n",
            "\n",
            "+----+-----+----------------+\n",
            "|loan|count|percent_of_total|\n",
            "+----+-----+----------------+\n",
            "|  no|37967|            84.0|\n",
            "| yes| 7244|            16.0|\n",
            "+----+-----+----------------+\n",
            "\n",
            "+---------+-----+----------------+\n",
            "|  contact|count|percent_of_total|\n",
            "+---------+-----+----------------+\n",
            "|  unknown|13020|            28.8|\n",
            "| cellular|29285|            64.8|\n",
            "|telephone| 2906|             6.4|\n",
            "+---------+-----+----------------+\n",
            "\n",
            "+--------+-----+----------------+\n",
            "|poutcome|count|percent_of_total|\n",
            "+--------+-----+----------------+\n",
            "| success| 1511|             3.3|\n",
            "| unknown|36959|            81.7|\n",
            "|   other| 1840|             4.1|\n",
            "| failure| 4901|            10.8|\n",
            "+--------+-----+----------------+\n",
            "\n"
          ]
        }
      ]
    },
    {
      "cell_type": "markdown",
      "source": [
        "As we see, **contact** and **poutcome** have many unknown values -28.8% and 81.7% respectively. For this reason we will drop out those columns"
      ],
      "metadata": {
        "id": "Hu5WJKyxiUaU"
      }
    },
    {
      "cell_type": "code",
      "source": [
        "df_clean = df_clean.drop('contact', 'poutcome')"
      ],
      "metadata": {
        "id": "NdGjPSifivc1"
      },
      "execution_count": 17,
      "outputs": []
    },
    {
      "cell_type": "markdown",
      "source": [
        "As of **job** and **education**, we will drop the rows where either of these columns is unknown."
      ],
      "metadata": {
        "id": "dqsoUIN8lPy9"
      }
    },
    {
      "cell_type": "code",
      "source": [
        "df_clean = df_clean.where(df_clean['job'] != 'unknown') \\\n",
        ".where(df_clean['education'] != 'unknown')"
      ],
      "metadata": {
        "id": "X0h2KteFjZnJ"
      },
      "execution_count": 18,
      "outputs": []
    },
    {
      "cell_type": "markdown",
      "source": [
        "How many rows do we have now?"
      ],
      "metadata": {
        "id": "d7qy9G3VnS5j"
      }
    },
    {
      "cell_type": "code",
      "source": [
        "df_clean.count()"
      ],
      "metadata": {
        "colab": {
          "base_uri": "https://localhost:8080/"
        },
        "id": "ahQKPAvLnV1r",
        "outputId": "3161da05-fee3-455b-fdd1-e8167610192b"
      },
      "execution_count": 19,
      "outputs": [
        {
          "output_type": "execute_result",
          "data": {
            "text/plain": [
              "43193"
            ]
          },
          "metadata": {},
          "execution_count": 19
        }
      ]
    },
    {
      "cell_type": "markdown",
      "source": [
        "### Save Data for Machine Learning modelling"
      ],
      "metadata": {
        "id": "qLw3dj1eg5Ni"
      }
    },
    {
      "cell_type": "code",
      "source": [
        "# We already have done cyclical encoding of month and day, which is what we need for machine learning\n",
        "df_ml = df_clean.drop('month', 'day')\n",
        "# save data\n",
        "df_ml.toPandas().to_csv('/content/ml_data.csv')"
      ],
      "metadata": {
        "id": "Lw78JOUMDGxg"
      },
      "execution_count": 20,
      "outputs": []
    }
  ]
}