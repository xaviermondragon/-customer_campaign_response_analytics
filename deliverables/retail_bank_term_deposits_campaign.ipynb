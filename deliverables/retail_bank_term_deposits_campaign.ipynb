{
  "nbformat": 4,
  "nbformat_minor": 0,
  "metadata": {
    "colab": {
      "provenance": []
    },
    "kernelspec": {
      "name": "python3",
      "display_name": "Python 3"
    },
    "language_info": {
      "name": "python"
    }
  },
  "cells": [
    {
      "cell_type": "markdown",
      "source": [
        "# Customer Campaign Response Analytics Using PySpark"
      ],
      "metadata": {
        "id": "awvOG90HwPTU"
      }
    },
    {
      "cell_type": "markdown",
      "source": [
        "The dataset can be found at [kaggle](https://www.kaggle.com/datasets/nimishsawant/bankfull). The data is related with direct marketing campaigns (phone calls) of a Portuguese banking institution. The classification goal is to predict if the client will subscribe a term deposit (variable y)."
      ],
      "metadata": {
        "id": "yBbGY-fEHdnL"
      }
    },
    {
      "cell_type": "markdown",
      "source": [
        "## Data Ingestion from CSV to Spark DataFrame"
      ],
      "metadata": {
        "id": "xX44GDERxFpi"
      }
    },
    {
      "cell_type": "code",
      "execution_count": 1,
      "metadata": {
        "colab": {
          "base_uri": "https://localhost:8080/"
        },
        "id": "8-9gUBf4wHxH",
        "outputId": "a484e409-a861-41c7-fd1c-b4b35dbc74ed"
      },
      "outputs": [
        {
          "output_type": "stream",
          "name": "stdout",
          "text": [
            "Requirement already satisfied: pyspark in /usr/local/lib/python3.11/dist-packages (3.5.5)\n",
            "Requirement already satisfied: py4j==0.10.9.7 in /usr/local/lib/python3.11/dist-packages (from pyspark) (0.10.9.7)\n"
          ]
        }
      ],
      "source": [
        "pip install pyspark"
      ]
    },
    {
      "cell_type": "code",
      "source": [
        "pip install -q findspark # -q, --quiet Give less output"
      ],
      "metadata": {
        "id": "BSKmSK7UxMoS"
      },
      "execution_count": 2,
      "outputs": []
    },
    {
      "cell_type": "markdown",
      "source": [
        "#### Imports"
      ],
      "metadata": {
        "id": "dcTeZADJBefF"
      }
    },
    {
      "cell_type": "code",
      "source": [
        "import findspark\n",
        "import pyspark\n",
        "from pyspark.sql import SparkSession, functions as F\n",
        "from pyspark.sql.functions import isnull, col, sum, from_unixtime, unix_timestamp, sin, cos\n",
        "from pyspark.ml.feature import StringIndexer, OneHotEncoder, VectorAssembler\n",
        "from pyspark.ml.classification import LogisticRegression\n",
        "from math import pi"
      ],
      "metadata": {
        "id": "oChQFxWhBjtl"
      },
      "execution_count": 3,
      "outputs": []
    },
    {
      "cell_type": "code",
      "source": [
        "findspark.init()"
      ],
      "metadata": {
        "id": "JuT3jqmYxhik"
      },
      "execution_count": 4,
      "outputs": []
    },
    {
      "cell_type": "code",
      "source": [
        "# Create a Spark Session\n",
        "spark = SparkSession.builder.appName('Customer Campaign Response Analytics').getOrCreate()"
      ],
      "metadata": {
        "id": "kK7lWFg3xtRd"
      },
      "execution_count": 5,
      "outputs": []
    },
    {
      "cell_type": "code",
      "source": [
        "# Load the dataset\n",
        "file_path = '/content/bank-full.csv'\n",
        "\n",
        "df = spark.read.csv(file_path, header=True, inferSchema=True)\n",
        "# Which variables do we have?\n",
        "df.printSchema()"
      ],
      "metadata": {
        "colab": {
          "base_uri": "https://localhost:8080/"
        },
        "id": "HGzUR3YDyX3i",
        "outputId": "73e116e9-f93c-4f8e-fc17-f945b9f38c1d"
      },
      "execution_count": 6,
      "outputs": [
        {
          "output_type": "stream",
          "name": "stdout",
          "text": [
            "root\n",
            " |-- age: integer (nullable = true)\n",
            " |-- job: string (nullable = true)\n",
            " |-- marital: string (nullable = true)\n",
            " |-- education: string (nullable = true)\n",
            " |-- default: string (nullable = true)\n",
            " |-- balance: integer (nullable = true)\n",
            " |-- housing: string (nullable = true)\n",
            " |-- loan: string (nullable = true)\n",
            " |-- contact: string (nullable = true)\n",
            " |-- day: integer (nullable = true)\n",
            " |-- month: string (nullable = true)\n",
            " |-- duration: integer (nullable = true)\n",
            " |-- campaign: integer (nullable = true)\n",
            " |-- pdays: integer (nullable = true)\n",
            " |-- previous: integer (nullable = true)\n",
            " |-- poutcome: string (nullable = true)\n",
            " |-- Target: string (nullable = true)\n",
            "\n"
          ]
        }
      ]
    },
    {
      "cell_type": "code",
      "source": [
        "# How does the data look like?\n",
        "df.show(5)"
      ],
      "metadata": {
        "colab": {
          "base_uri": "https://localhost:8080/"
        },
        "id": "X2Y0rDsnzNNP",
        "outputId": "eeb60b2f-456d-4011-bb1c-77fb3c6a59bc"
      },
      "execution_count": 7,
      "outputs": [
        {
          "output_type": "stream",
          "name": "stdout",
          "text": [
            "+---+------------+-------+---------+-------+-------+-------+----+-------+---+-----+--------+--------+-----+--------+--------+------+\n",
            "|age|         job|marital|education|default|balance|housing|loan|contact|day|month|duration|campaign|pdays|previous|poutcome|Target|\n",
            "+---+------------+-------+---------+-------+-------+-------+----+-------+---+-----+--------+--------+-----+--------+--------+------+\n",
            "| 58|  management|married| tertiary|     no|   2143|    yes|  no|unknown|  5|  may|     261|       1|   -1|       0| unknown|    no|\n",
            "| 44|  technician| single|secondary|     no|     29|    yes|  no|unknown|  5|  may|     151|       1|   -1|       0| unknown|    no|\n",
            "| 33|entrepreneur|married|secondary|     no|      2|    yes| yes|unknown|  5|  may|      76|       1|   -1|       0| unknown|    no|\n",
            "| 47| blue-collar|married|  unknown|     no|   1506|    yes|  no|unknown|  5|  may|      92|       1|   -1|       0| unknown|    no|\n",
            "| 33|     unknown| single|  unknown|     no|      1|     no|  no|unknown|  5|  may|     198|       1|   -1|       0| unknown|    no|\n",
            "+---+------------+-------+---------+-------+-------+-------+----+-------+---+-----+--------+--------+-----+--------+--------+------+\n",
            "only showing top 5 rows\n",
            "\n"
          ]
        }
      ]
    },
    {
      "cell_type": "code",
      "source": [
        "# number of rows\n",
        "df.count()"
      ],
      "metadata": {
        "colab": {
          "base_uri": "https://localhost:8080/"
        },
        "id": "tRcGSHXOe4iF",
        "outputId": "fda9a927-bf7a-4499-8139-1a47dc939def"
      },
      "execution_count": 8,
      "outputs": [
        {
          "output_type": "execute_result",
          "data": {
            "text/plain": [
              "45211"
            ]
          },
          "metadata": {},
          "execution_count": 8
        }
      ]
    },
    {
      "cell_type": "markdown",
      "source": [
        "Each datapoint contains information about a particular client, which was contacted during the marketing campaign mentioned at the beginning of this notebook. Most of the columns are self-explanatory, nevertheless, there are some for which an extra explanation is useful. For .the sake of completeness, we include the description of each column - taken from the [description](https://archive.ics.uci.edu/dataset/222/bank+marketing) of the dataset.\n",
        "\n",
        "- **age**: Age\n",
        "- **job**: Occupation\n",
        "- **marital**: Marital Status\n",
        "- **education**: Education Level\n",
        "- **default**: Has credit in default?\n",
        "- **balance**: Average yearly balance\n",
        "- **housing**: Average has housing loan?\n",
        "- **loan**: Has personal loan?\n",
        "- **contact**: Contact communication type\n",
        "- **day**: Last contact day of the month (In the data description it says day of the week, but wee will see below that's not the case)\n",
        "- **month**: Last contact month of year\n",
        "- **duration**: Last contact duration, in seconds\n",
        "- **campaign**: Number of contacts performed during this campaign and for this client\n",
        "- **pdays**: Number of days that passed by after the client was last contacted from a previous campaign\n",
        "- **previous**: Number of contacts performed before this campaign and for this client\n",
        "- **poutcome**: Outcome of the previous marketing campaign\n",
        "- **Target**: Has the client subscribed a term deposit?\n",
        "\n",
        "As its name suggests, **Target** is the target variable, which we would like to predict."
      ],
      "metadata": {
        "id": "zqOAWR1rG0TA"
      }
    },
    {
      "cell_type": "markdown",
      "source": [
        "# Data Cleaning and Preprocessing"
      ],
      "metadata": {
        "id": "-cgb_wiJEd8Y"
      }
    },
    {
      "cell_type": "markdown",
      "source": [
        "### Column renaming"
      ],
      "metadata": {
        "id": "ehOSCelSNwPM"
      }
    },
    {
      "cell_type": "code",
      "source": [
        "# Do all the cleaning in a copy of the original dataframe\n",
        "df_clean = df.withColumnRenamed('Target', 'y')"
      ],
      "metadata": {
        "id": "P7Ds0DXvN1bN"
      },
      "execution_count": 9,
      "outputs": []
    },
    {
      "cell_type": "markdown",
      "source": [
        "### Missing Values:"
      ],
      "metadata": {
        "id": "iDE3q0c6FbrH"
      }
    },
    {
      "cell_type": "code",
      "source": [
        "null_summary = df_clean.select(\n",
        "    [sum(col(c).isNull().cast('int')).alias(c) for c in df_clean.columns]\n",
        ")\n",
        "\n",
        "null_summary.show()"
      ],
      "metadata": {
        "colab": {
          "base_uri": "https://localhost:8080/"
        },
        "id": "W1tsn9STEiz4",
        "outputId": "370383f0-96c6-446e-d901-1cec645ccba7"
      },
      "execution_count": 10,
      "outputs": [
        {
          "output_type": "stream",
          "name": "stdout",
          "text": [
            "+---+---+-------+---------+-------+-------+-------+----+-------+---+-----+--------+--------+-----+--------+--------+---+\n",
            "|age|job|marital|education|default|balance|housing|loan|contact|day|month|duration|campaign|pdays|previous|poutcome|  y|\n",
            "+---+---+-------+---------+-------+-------+-------+----+-------+---+-----+--------+--------+-----+--------+--------+---+\n",
            "|  0|  0|      0|        0|      0|      0|      0|   0|      0|  0|    0|       0|       0|    0|       0|       0|  0|\n",
            "+---+---+-------+---------+-------+-------+-------+----+-------+---+-----+--------+--------+-----+--------+--------+---+\n",
            "\n"
          ]
        }
      ]
    },
    {
      "cell_type": "markdown",
      "source": [
        "### Time Variables"
      ],
      "metadata": {
        "id": "ymWE_YJmP6FI"
      }
    },
    {
      "cell_type": "code",
      "source": [
        "df_clean.select('month').distinct().show()"
      ],
      "metadata": {
        "colab": {
          "base_uri": "https://localhost:8080/"
        },
        "id": "r5I0pPq7P_I5",
        "outputId": "5910d0d4-5f81-4842-d575-e1f70d044440"
      },
      "execution_count": 11,
      "outputs": [
        {
          "output_type": "stream",
          "name": "stdout",
          "text": [
            "+-----+\n",
            "|month|\n",
            "+-----+\n",
            "|  jun|\n",
            "|  aug|\n",
            "|  may|\n",
            "|  feb|\n",
            "|  sep|\n",
            "|  mar|\n",
            "|  oct|\n",
            "|  jul|\n",
            "|  nov|\n",
            "|  apr|\n",
            "|  dec|\n",
            "|  jan|\n",
            "+-----+\n",
            "\n"
          ]
        }
      ]
    },
    {
      "cell_type": "markdown",
      "source": [
        "All 12 months of the year are present. There is no 'year' column in the dataset and I also don't find any reference of the year(s) where the marketing campaign took place. We could assume that the campaign was run on a single year, but we can't be really sure."
      ],
      "metadata": {
        "id": "n9W8XKQwQyow"
      }
    },
    {
      "cell_type": "markdown",
      "source": [
        "Let's now take a look at the **day** column:"
      ],
      "metadata": {
        "id": "hhOb4dt0xrbm"
      }
    },
    {
      "cell_type": "code",
      "source": [
        "df_clean.select('day').distinct().show()"
      ],
      "metadata": {
        "colab": {
          "base_uri": "https://localhost:8080/"
        },
        "id": "df7KD7J0h9zg",
        "outputId": "77804a61-7abb-45f3-c635-830d8dc25467"
      },
      "execution_count": 12,
      "outputs": [
        {
          "output_type": "stream",
          "name": "stdout",
          "text": [
            "+---+\n",
            "|day|\n",
            "+---+\n",
            "| 31|\n",
            "| 28|\n",
            "| 26|\n",
            "| 27|\n",
            "| 12|\n",
            "| 22|\n",
            "|  1|\n",
            "| 13|\n",
            "|  6|\n",
            "| 16|\n",
            "|  3|\n",
            "| 20|\n",
            "|  5|\n",
            "| 19|\n",
            "| 15|\n",
            "|  9|\n",
            "| 17|\n",
            "|  4|\n",
            "|  8|\n",
            "| 23|\n",
            "+---+\n",
            "only showing top 20 rows\n",
            "\n"
          ]
        }
      ]
    },
    {
      "cell_type": "markdown",
      "source": [
        "As mentioned on the introduction, we are dealing with day of the month instead of day of the week."
      ],
      "metadata": {
        "id": "kIOpPVrLiw_O"
      }
    },
    {
      "cell_type": "markdown",
      "source": [
        "### Exploration of categorical columns"
      ],
      "metadata": {
        "id": "z0WbxJWm98de"
      }
    },
    {
      "cell_type": "code",
      "source": [
        "categorical = ['job', 'marital', 'education', 'contact', 'poutcome']\n",
        "no_rows = df_clean.count()\n",
        "\n",
        "for col_name in categorical:\n",
        "  df_clean.groupBy(col_name).count() \\\n",
        "  .withColumn('percent_of_total', F.round((F.col('count') / no_rows)*100, 1)) \\\n",
        "  .show()"
      ],
      "metadata": {
        "colab": {
          "base_uri": "https://localhost:8080/"
        },
        "id": "bNJhVAmGBMCR",
        "outputId": "8ea32447-c705-48a4-98b1-7e96f105c921"
      },
      "execution_count": 13,
      "outputs": [
        {
          "output_type": "stream",
          "name": "stdout",
          "text": [
            "+-------------+-----+----------------+\n",
            "|          job|count|percent_of_total|\n",
            "+-------------+-----+----------------+\n",
            "|   management| 9458|            20.9|\n",
            "|      retired| 2264|             5.0|\n",
            "|      unknown|  288|             0.6|\n",
            "|self-employed| 1579|             3.5|\n",
            "|      student|  938|             2.1|\n",
            "|  blue-collar| 9732|            21.5|\n",
            "| entrepreneur| 1487|             3.3|\n",
            "|       admin.| 5171|            11.4|\n",
            "|   technician| 7597|            16.8|\n",
            "|     services| 4154|             9.2|\n",
            "|    housemaid| 1240|             2.7|\n",
            "|   unemployed| 1303|             2.9|\n",
            "+-------------+-----+----------------+\n",
            "\n",
            "+--------+-----+----------------+\n",
            "| marital|count|percent_of_total|\n",
            "+--------+-----+----------------+\n",
            "|divorced| 5207|            11.5|\n",
            "| married|27214|            60.2|\n",
            "|  single|12790|            28.3|\n",
            "+--------+-----+----------------+\n",
            "\n",
            "+---------+-----+----------------+\n",
            "|education|count|percent_of_total|\n",
            "+---------+-----+----------------+\n",
            "|  unknown| 1857|             4.1|\n",
            "| tertiary|13301|            29.4|\n",
            "|secondary|23202|            51.3|\n",
            "|  primary| 6851|            15.2|\n",
            "+---------+-----+----------------+\n",
            "\n",
            "+---------+-----+----------------+\n",
            "|  contact|count|percent_of_total|\n",
            "+---------+-----+----------------+\n",
            "|  unknown|13020|            28.8|\n",
            "| cellular|29285|            64.8|\n",
            "|telephone| 2906|             6.4|\n",
            "+---------+-----+----------------+\n",
            "\n",
            "+--------+-----+----------------+\n",
            "|poutcome|count|percent_of_total|\n",
            "+--------+-----+----------------+\n",
            "| success| 1511|             3.3|\n",
            "| unknown|36959|            81.7|\n",
            "|   other| 1840|             4.1|\n",
            "| failure| 4901|            10.8|\n",
            "+--------+-----+----------------+\n",
            "\n"
          ]
        }
      ]
    },
    {
      "cell_type": "markdown",
      "source": [
        "As we see, **contact** and **poutcome** have many unknown values -28.8% and 81.7% respectively. For this reason we will drop out those columns"
      ],
      "metadata": {
        "id": "Hu5WJKyxiUaU"
      }
    },
    {
      "cell_type": "code",
      "source": [
        "df_clean = df_clean.drop('contact', 'poutcome')"
      ],
      "metadata": {
        "id": "NdGjPSifivc1"
      },
      "execution_count": 14,
      "outputs": []
    },
    {
      "cell_type": "markdown",
      "source": [
        "As of **job** and **education**, we will drop the rows where either of these columns is unknown."
      ],
      "metadata": {
        "id": "dqsoUIN8lPy9"
      }
    },
    {
      "cell_type": "code",
      "source": [
        "df_clean = df_clean.where(df_clean['job'] != 'unknown') \\\n",
        ".where(df_clean['education'] != 'unknown')"
      ],
      "metadata": {
        "id": "X0h2KteFjZnJ"
      },
      "execution_count": 15,
      "outputs": []
    },
    {
      "cell_type": "markdown",
      "source": [
        "Let's take another look at the distribution of **job** and **education** after this cleaning step:"
      ],
      "metadata": {
        "id": "d7qy9G3VnS5j"
      }
    },
    {
      "cell_type": "code",
      "source": [
        "no_rows = df_clean.count()\n",
        "\n",
        "for col_name in ['job', 'education']:\n",
        "  df_clean.groupBy(col_name).count() \\\n",
        "  .withColumn('percent_of_total', F.round((F.col('count') / no_rows)*100, 1)) \\\n",
        "  .show()"
      ],
      "metadata": {
        "colab": {
          "base_uri": "https://localhost:8080/"
        },
        "id": "ahQKPAvLnV1r",
        "outputId": "25cae404-d4ac-4a8c-9dfa-8431088e827b"
      },
      "execution_count": 16,
      "outputs": [
        {
          "output_type": "stream",
          "name": "stdout",
          "text": [
            "+-------------+-----+----------------+\n",
            "|          job|count|percent_of_total|\n",
            "+-------------+-----+----------------+\n",
            "|   management| 9216|            21.3|\n",
            "|      retired| 2145|             5.0|\n",
            "|self-employed| 1540|             3.6|\n",
            "|      student|  775|             1.8|\n",
            "|  blue-collar| 9278|            21.5|\n",
            "| entrepreneur| 1411|             3.3|\n",
            "|       admin.| 5000|            11.6|\n",
            "|   technician| 7355|            17.0|\n",
            "|     services| 4004|             9.3|\n",
            "|    housemaid| 1195|             2.8|\n",
            "|   unemployed| 1274|             2.9|\n",
            "+-------------+-----+----------------+\n",
            "\n",
            "+---------+-----+----------------+\n",
            "|education|count|percent_of_total|\n",
            "+---------+-----+----------------+\n",
            "| tertiary|13262|            30.7|\n",
            "|secondary|23131|            53.6|\n",
            "|  primary| 6800|            15.7|\n",
            "+---------+-----+----------------+\n",
            "\n"
          ]
        }
      ]
    },
    {
      "cell_type": "markdown",
      "source": [
        "#### Binary Variables (**default**, **housing**, **loan**)"
      ],
      "metadata": {
        "id": "7YLhYaRS6eFh"
      }
    },
    {
      "cell_type": "code",
      "source": [
        "binary = ['default', 'housing', 'loan']\n",
        "\n",
        "for col_name in binary:\n",
        "  df_clean.groupBy(col_name).count() \\\n",
        "  .withColumn('percent_of_total', F.round((F.col('count') / no_rows)*100, 1)) \\\n",
        "  .show()"
      ],
      "metadata": {
        "colab": {
          "base_uri": "https://localhost:8080/"
        },
        "id": "8QyT6ND46j_Q",
        "outputId": "6b5715dd-d809-4127-ce3d-135997e54610"
      },
      "execution_count": 17,
      "outputs": [
        {
          "output_type": "stream",
          "name": "stdout",
          "text": [
            "+-------+-----+----------------+\n",
            "|default|count|percent_of_total|\n",
            "+-------+-----+----------------+\n",
            "|     no|42411|            98.2|\n",
            "|    yes|  782|             1.8|\n",
            "+-------+-----+----------------+\n",
            "\n",
            "+-------+-----+----------------+\n",
            "|housing|count|percent_of_total|\n",
            "+-------+-----+----------------+\n",
            "|     no|18901|            43.8|\n",
            "|    yes|24292|            56.2|\n",
            "+-------+-----+----------------+\n",
            "\n",
            "+----+-----+----------------+\n",
            "|loan|count|percent_of_total|\n",
            "+----+-----+----------------+\n",
            "|  no|36086|            83.5|\n",
            "| yes| 7107|            16.5|\n",
            "+----+-----+----------------+\n",
            "\n"
          ]
        }
      ]
    },
    {
      "cell_type": "markdown",
      "source": [
        "As we can see, the dataset is highly unbalanced with respect to the variables **default** and **loan**, so that it is maybe a good idea not to include these variables for the machine learning modelling.\n",
        "\n",
        "Let's code 'no' as 0 and 'yes' as 1 for the binary variables."
      ],
      "metadata": {
        "id": "G_Xd8tpP7iLm"
      }
    },
    {
      "cell_type": "code",
      "source": [
        "df_clean = df_clean.withColumn(\n",
        "    'default_b',\n",
        "    F.when((col('default') == 'yes'), 1).otherwise(0)\n",
        "    ) \\\n",
        "    .withColumn(\n",
        "    'housing_b',\n",
        "    F.when((col('housing') == 'yes'), 1).otherwise(0)\n",
        "    ) \\\n",
        "    .withColumn(\n",
        "    'loan_b',\n",
        "    F.when((col('loan') == 'yes'), 1).otherwise(0)\n",
        "    )\n",
        "\n",
        "# drop original columns\n",
        "df_clean = df_clean.drop('default', 'housing', 'loan')"
      ],
      "metadata": {
        "id": "Aa6K_A3_7gpQ"
      },
      "execution_count": 18,
      "outputs": []
    },
    {
      "cell_type": "markdown",
      "source": [
        "### Save clean dataset for EDA"
      ],
      "metadata": {
        "id": "jVddGI9eFO_r"
      }
    },
    {
      "cell_type": "code",
      "source": [
        "df_clean.toPandas().to_csv('/content/clean_data.csv')"
      ],
      "metadata": {
        "id": "4wsW72GCGXJL"
      },
      "execution_count": 20,
      "outputs": []
    },
    {
      "cell_type": "markdown",
      "source": [
        "### Machine Learning modelling"
      ],
      "metadata": {
        "id": "qLw3dj1eg5Ni"
      }
    },
    {
      "cell_type": "markdown",
      "source": [
        "#### Cyclical Encoding of month\n",
        "\n",
        "As we could be dealing with more than one year, it is safer to perform cyclic encoding for month.\n",
        "\n",
        "> Blockzitat einfügen\n",
        "\n"
      ],
      "metadata": {
        "id": "761sODCpQHkj"
      }
    },
    {
      "cell_type": "code",
      "source": [
        "df_clean.columns"
      ],
      "metadata": {
        "colab": {
          "base_uri": "https://localhost:8080/"
        },
        "id": "qBJttWqwV7eA",
        "outputId": "5d93c8f9-0a9c-40aa-cf57-4120db1d8605"
      },
      "execution_count": 21,
      "outputs": [
        {
          "output_type": "execute_result",
          "data": {
            "text/plain": [
              "['age',\n",
              " 'job',\n",
              " 'marital',\n",
              " 'education',\n",
              " 'balance',\n",
              " 'day',\n",
              " 'month',\n",
              " 'duration',\n",
              " 'campaign',\n",
              " 'pdays',\n",
              " 'previous',\n",
              " 'y',\n",
              " 'default_b',\n",
              " 'housing_b',\n",
              " 'loan_b']"
            ]
          },
          "metadata": {},
          "execution_count": 21
        }
      ]
    },
    {
      "cell_type": "code",
      "source": [
        "# First convert month to a numerical variable\n",
        "df_ml = df_clean.withColumn('month', from_unixtime(unix_timestamp(col('month'), 'MMM'), 'MM'))"
      ],
      "metadata": {
        "id": "I80LaKz3WLCw"
      },
      "execution_count": 22,
      "outputs": []
    },
    {
      "cell_type": "code",
      "source": [
        "\n",
        "df_ml = df_ml.withColumn('month', df_ml['month'].cast('int'))\n",
        "df_ml.select('month').distinct().show()"
      ],
      "metadata": {
        "colab": {
          "base_uri": "https://localhost:8080/"
        },
        "id": "i82SVS3_P8jq",
        "outputId": "aeb9553b-2dc7-48ae-f048-326c97f6dd45"
      },
      "execution_count": 23,
      "outputs": [
        {
          "output_type": "stream",
          "name": "stdout",
          "text": [
            "+-----+\n",
            "|month|\n",
            "+-----+\n",
            "|   12|\n",
            "|    1|\n",
            "|    6|\n",
            "|    3|\n",
            "|    5|\n",
            "|    9|\n",
            "|    4|\n",
            "|    8|\n",
            "|    7|\n",
            "|   10|\n",
            "|   11|\n",
            "|    2|\n",
            "+-----+\n",
            "\n"
          ]
        }
      ]
    },
    {
      "cell_type": "code",
      "source": [
        "# Cyclical encoding of month\n",
        "df_ml = df_ml.withColumn('month_sin', sin(2*pi*(df_ml['month'] - 1)/12))\n",
        "df_ml = df_ml.withColumn('month_cos', sin(2*pi*(df_ml['month'] - 1)/12))"
      ],
      "metadata": {
        "id": "EvR88yGTQfpc"
      },
      "execution_count": 24,
      "outputs": []
    },
    {
      "cell_type": "markdown",
      "source": [
        "#### Cyclical Encoding of day"
      ],
      "metadata": {
        "id": "xFDK_9ABRRQC"
      }
    },
    {
      "cell_type": "code",
      "source": [
        "# create an auxiliar column having the number of days in a given month\n",
        "df_ml = df_ml.withColumn(\n",
        "    'month_days',\n",
        "    F.when(F.col('month').isin([1, 3, 5, 7, 8, 10, 12]), 31) #months with 31 days\n",
        "    .when(F.col('month').isin([4, 6, 9, 11]), 30) # months with 30 days\n",
        "    .otherwise(28) # february\n",
        ")"
      ],
      "metadata": {
        "id": "l5pT1nAXRdSS"
      },
      "execution_count": 25,
      "outputs": []
    },
    {
      "cell_type": "code",
      "source": [
        "# Cyclical encoding of day\n",
        "df_ml = df_ml.withColumn('day_sin', sin(2*pi*(df_ml['day'] - 1)/df_ml['month_days']))\n",
        "df_ml = df_ml.withColumn('day_cos', sin(2*pi*(df_ml['day'] - 1)/df_ml['month_days']))\n",
        "# drop auxiliar column\n",
        "df_ml = df_ml.drop('month_days')"
      ],
      "metadata": {
        "id": "y-HeNf9fSBfe"
      },
      "execution_count": 26,
      "outputs": []
    },
    {
      "cell_type": "code",
      "source": [
        "# We don't need the original month and day columns for machine learning\n",
        "df_ml = df_ml.drop('month', 'day')"
      ],
      "metadata": {
        "id": "exEQG3mWSeKC"
      },
      "execution_count": 27,
      "outputs": []
    },
    {
      "cell_type": "markdown",
      "source": [
        "### Preparation of numerical variables"
      ],
      "metadata": {
        "id": "8-FsmqJmjYCV"
      }
    },
    {
      "cell_type": "code",
      "source": [
        "df_ml = df_ml.drop('duration')"
      ],
      "metadata": {
        "id": "9vKheuvAjmHv"
      },
      "execution_count": 28,
      "outputs": []
    },
    {
      "cell_type": "markdown",
      "source": [
        "### Machine Learning Pipeline"
      ],
      "metadata": {
        "id": "xVaHUnhBi6Ui"
      }
    },
    {
      "cell_type": "markdown",
      "source": [
        "#### One-Hot Encoding for Categorical Variables\n",
        "\n",
        "\n"
      ],
      "metadata": {
        "id": "Qdu2zJBSS5aU"
      }
    },
    {
      "cell_type": "code",
      "source": [
        "job_indexer = StringIndexer(inputCol = 'job', outputCol='job_index')\n",
        "job_encoder = OneHotEncoder(inputCol='job_index', outputCol='job_vector')"
      ],
      "metadata": {
        "id": "Bu6K-rwKcr2n"
      },
      "execution_count": 29,
      "outputs": []
    },
    {
      "cell_type": "markdown",
      "source": [
        "#### VectorAssembler"
      ],
      "metadata": {
        "id": "41NWRifVjKeU"
      }
    },
    {
      "cell_type": "markdown",
      "source": [
        "As it is stated in the [description](https://archive.ics.uci.edu/dataset/222/bank+marketing) of the dataset, **duration** is the *last contact duration, in seconds (numeric). Important note: this attribute highly affects the output target (e.g., if duration=0 then y='no'). Yet, the duration is not known before a call is performed. Also, after the end of the call y is obviously known. Thus, this input should only be included for benchmark purposes and should be discarded if the intention is to have a realistic predictive model.*\n",
        "\n",
        "Therefore, we will not use this variable for prediction purposes."
      ],
      "metadata": {
        "id": "IpD7eu2X-UK4"
      }
    },
    {
      "cell_type": "markdown",
      "source": [
        "Columns to exclude:\n",
        "- binary\n",
        " - default\n",
        " - loan\n",
        "- numerical\n",
        " - duration"
      ],
      "metadata": {
        "id": "khq4eqJ89qVT"
      }
    },
    {
      "cell_type": "markdown",
      "source": [],
      "metadata": {
        "id": "L9GHcnje9cXl"
      }
    },
    {
      "cell_type": "code",
      "source": [
        "assembler = VectorAssembler(inputCols=['age', 'job_vector'], outputCol='features')"
      ],
      "metadata": {
        "id": "2lOb_PsqhsuL"
      },
      "execution_count": 30,
      "outputs": []
    },
    {
      "cell_type": "markdown",
      "source": [
        "#### Logistic Regression"
      ],
      "metadata": {
        "id": "9T9-A372T8nU"
      }
    },
    {
      "cell_type": "code",
      "source": [],
      "metadata": {
        "id": "SNiJWPgejtII"
      },
      "execution_count": 30,
      "outputs": []
    },
    {
      "cell_type": "markdown",
      "source": [],
      "metadata": {
        "id": "R0e7A4A2UIUi"
      }
    },
    {
      "cell_type": "markdown",
      "source": [
        "### Save machine learning ready dataframe to a CSV file"
      ],
      "metadata": {
        "id": "nem-lBgdRIwA"
      }
    },
    {
      "cell_type": "code",
      "source": [
        "# save data\n",
        "#df_ml.toPandas().to_csv('/content/ml_data.csv')"
      ],
      "metadata": {
        "id": "Lw78JOUMDGxg"
      },
      "execution_count": 31,
      "outputs": []
    }
  ]
}